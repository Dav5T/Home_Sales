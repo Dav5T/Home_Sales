{
  "cells": [
    {
      "cell_type": "code",
      "execution_count": 1,
      "metadata": {
        "colab": {
          "base_uri": "https://localhost:8080/"
        },
        "id": "a_KW73O2e3dw",
        "outputId": "827fc977-1a78-4a10-a446-bd64ea2b7494"
      },
      "outputs": [
        {
          "output_type": "stream",
          "name": "stdout",
          "text": [
            "\r0% [Working]\r            \rGet:1 https://cloud.r-project.org/bin/linux/ubuntu jammy-cran40/ InRelease [3,626 B]\n",
            "Hit:2 https://developer.download.nvidia.com/compute/cuda/repos/ubuntu2204/x86_64  InRelease\n",
            "Get:3 http://security.ubuntu.com/ubuntu jammy-security InRelease [110 kB]\n",
            "Hit:4 http://archive.ubuntu.com/ubuntu jammy InRelease\n",
            "Get:5 http://archive.ubuntu.com/ubuntu jammy-updates InRelease [119 kB]\n",
            "Get:6 http://archive.ubuntu.com/ubuntu jammy-backports InRelease [109 kB]\n",
            "Hit:7 https://ppa.launchpadcontent.net/c2d4u.team/c2d4u4.0+/ubuntu jammy InRelease\n",
            "Get:8 http://archive.ubuntu.com/ubuntu jammy-updates/main amd64 Packages [1,347 kB]\n",
            "Get:9 http://archive.ubuntu.com/ubuntu jammy-updates/universe amd64 Packages [1,269 kB]\n",
            "Hit:10 https://ppa.launchpadcontent.net/deadsnakes/ppa/ubuntu jammy InRelease\n",
            "Hit:11 https://ppa.launchpadcontent.net/graphics-drivers/ppa/ubuntu jammy InRelease\n",
            "Hit:12 https://ppa.launchpadcontent.net/ubuntugis/ppa/ubuntu jammy InRelease\n",
            "Fetched 2,957 kB in 3s (1,120 kB/s)\n",
            "Reading package lists... Done\n"
          ]
        }
      ],
      "source": [
        "import os\n",
        "# Find the latest version of spark 3.x  from http://www.apache.org/dist/spark/ and enter as the spark version\n",
        "# For example:\n",
        "# spark_version = 'spark-3.4.0'\n",
        "spark_version = 'spark-3.5.0'\n",
        "os.environ['SPARK_VERSION']=spark_version\n",
        "\n",
        "# Install Spark and Java\n",
        "!apt-get update\n",
        "!apt-get install openjdk-11-jdk-headless -qq > /dev/null\n",
        "!wget -q http://www.apache.org/dist/spark/$SPARK_VERSION/$SPARK_VERSION-bin-hadoop3.tgz\n",
        "!tar xf $SPARK_VERSION-bin-hadoop3.tgz\n",
        "!pip install -q findspark\n",
        "\n",
        "# Set Environment Variables\n",
        "os.environ[\"JAVA_HOME\"] = \"/usr/lib/jvm/java-11-openjdk-amd64\"\n",
        "os.environ[\"SPARK_HOME\"] = f\"/content/{spark_version}-bin-hadoop3\"\n",
        "\n",
        "# Start a SparkSession\n",
        "import findspark\n",
        "findspark.init()"
      ]
    },
    {
      "cell_type": "code",
      "execution_count": 2,
      "metadata": {
        "id": "2XbWNf1Te5fM"
      },
      "outputs": [],
      "source": [
        "# Import packages\n",
        "from pyspark.sql import SparkSession\n",
        "import time\n",
        "\n",
        "# Create a SparkSession\n",
        "spark = SparkSession.builder.appName(\"SparkSQL\").getOrCreate()"
      ]
    },
    {
      "cell_type": "code",
      "execution_count": 3,
      "metadata": {
        "id": "wOJqxG_RPSwp",
        "colab": {
          "base_uri": "https://localhost:8080/"
        },
        "outputId": "893e97c6-3e2a-4361-da55-a1b63e7bf459"
      },
      "outputs": [
        {
          "output_type": "stream",
          "name": "stdout",
          "text": [
            "+--------------------+----------+----------+------+--------+---------+-----------+--------+------+----------+----+\n",
            "|                  id|      date|date_built| price|bedrooms|bathrooms|sqft_living|sqft_lot|floors|waterfront|view|\n",
            "+--------------------+----------+----------+------+--------+---------+-----------+--------+------+----------+----+\n",
            "|f8a53099-ba1c-47d...|2022-04-08|      2016|936923|       4|        3|       3167|   11733|     2|         1|  76|\n",
            "|7530a2d8-1ae3-451...|2021-06-13|      2013|379628|       2|        2|       2235|   14384|     1|         0|  23|\n",
            "|43de979c-0bf0-4c9...|2019-04-12|      2014|417866|       2|        2|       2127|   10575|     2|         0|   0|\n",
            "|b672c137-b88c-48b...|2019-10-16|      2016|239895|       2|        2|       1631|   11149|     2|         0|   0|\n",
            "|e0726d4d-d595-407...|2022-01-08|      2017|424418|       3|        2|       2249|   13878|     2|         0|   4|\n",
            "|5aa00529-0533-46b...|2019-01-30|      2017|218712|       2|        3|       1965|   14375|     2|         0|   7|\n",
            "|131492a1-72e2-4a8...|2020-02-08|      2017|419199|       2|        3|       2062|    8876|     2|         0|   6|\n",
            "|8d54a71b-c520-44e...|2019-07-21|      2010|323956|       2|        3|       1506|   11816|     1|         0|  25|\n",
            "|e81aacfe-17fe-46b...|2020-06-16|      2016|181925|       3|        3|       2137|   11709|     2|         0|  22|\n",
            "|2ed8d509-7372-46d...|2021-08-06|      2015|258710|       3|        3|       1918|    9666|     1|         0|  25|\n",
            "|f876d86f-3c9f-42b...|2019-02-27|      2011|167864|       3|        3|       2471|   13924|     2|         0|  15|\n",
            "|0a2bd445-8508-4d8...|2021-12-30|      2014|337527|       2|        3|       1926|   12556|     1|         0|  23|\n",
            "|941bad30-eb49-4a7...|2020-05-09|      2015|229896|       3|        3|       2197|    8641|     1|         0|   3|\n",
            "|dd61eb34-6589-4c0...|2021-07-25|      2016|210247|       3|        2|       1672|   11986|     2|         0|  28|\n",
            "|f1e4cef7-d151-439...|2019-02-01|      2011|398667|       2|        3|       2331|   11356|     1|         0|   7|\n",
            "|ea620c7b-c2f7-4c6...|2021-05-31|      2011|437958|       3|        3|       2356|   11052|     1|         0|  26|\n",
            "|f233cb41-6f33-4b0...|2021-07-18|      2016|437375|       4|        3|       1704|   11721|     2|         0|  34|\n",
            "|c797ca12-52cd-4b1...|2019-06-08|      2015|288650|       2|        3|       2100|   10419|     2|         0|   7|\n",
            "|0cfe57f3-28c2-472...|2019-10-04|      2015|308313|       3|        3|       1960|    9453|     2|         0|   2|\n",
            "|4566cd2a-ac6e-435...|2019-07-15|      2016|177541|       3|        3|       2130|   10517|     2|         0|  25|\n",
            "+--------------------+----------+----------+------+--------+---------+-----------+--------+------+----------+----+\n",
            "only showing top 20 rows\n",
            "\n"
          ]
        }
      ],
      "source": [
        "# 1. Read in the AWS S3 bucket into a DataFrame.\n",
        "from pyspark import SparkFiles\n",
        "url = \"https://2u-data-curriculum-team.s3.amazonaws.com/dataviz-classroom/v1.2/22-big-data/home_sales_revised.csv\"\n",
        "spark.sparkContext.addFile(url)\n",
        "homeSales_df = spark.read.csv(SparkFiles.get(\"home_sales_revised.csv\"), sep=',', header=True)\n",
        "\n",
        "# show the home sales table\n",
        "homeSales_df.show()\n"
      ]
    },
    {
      "cell_type": "code",
      "execution_count": 4,
      "metadata": {
        "id": "RoljcJ7WPpnm"
      },
      "outputs": [],
      "source": [
        "# 2. Create a temporary view of the DataFrame.\n",
        "homeSales_df.createOrReplaceTempView('home_sales')\n"
      ]
    },
    {
      "cell_type": "code",
      "execution_count": 5,
      "metadata": {
        "id": "L6fkwOeOmqvq",
        "colab": {
          "base_uri": "https://localhost:8080/"
        },
        "outputId": "5bd81a51-d000-43ae-8508-9a490d69decd"
      },
      "outputs": [
        {
          "output_type": "stream",
          "name": "stdout",
          "text": [
            "+--------+-------------+\n",
            "|bedrooms|average_price|\n",
            "+--------+-------------+\n",
            "|       4|    299661.01|\n",
            "+--------+-------------+\n",
            "\n"
          ]
        }
      ],
      "source": [
        "# 3. What is the average price for a four bedroom house sold in each year rounded to two decimal places?\n",
        "spark.sql(\"\"\"SELECT bedrooms, round(Avg(price), 2) AS average_price FROM home_sales WHERE bedrooms = 4 GROUP BY 1\"\"\").show()\n",
        "\n"
      ]
    },
    {
      "cell_type": "code",
      "execution_count": 14,
      "metadata": {
        "id": "l8p_tUS8h8it",
        "colab": {
          "base_uri": "https://localhost:8080/"
        },
        "outputId": "1f0e191a-8e6c-45ad-89a5-334bee97c0a8"
      },
      "outputs": [
        {
          "output_type": "stream",
          "name": "stdout",
          "text": [
            "+----+--------+---------+-------------+\n",
            "|year|bedrooms|bathrooms|average_price|\n",
            "+----+--------+---------+-------------+\n",
            "|2019|       3|        3|    287287.82|\n",
            "|2020|       3|        3|    294204.16|\n",
            "|2021|       3|        3|    294211.46|\n",
            "|2022|       3|        3|    292725.69|\n",
            "+----+--------+---------+-------------+\n",
            "\n"
          ]
        }
      ],
      "source": [
        "from pyspark.sql.functions import year\n",
        "# 4. What is the average price of a home for each year the home was built that have 3 bedrooms and 3 bathrooms rounded to two decimal places?\n",
        "spark.sql(\"\"\"SELECT YEAR(date) AS year, bedrooms, bathrooms, round(Avg(price), 2) AS average_price\n",
        "              FROM home_sales\n",
        "              WHERE bedrooms=3 AND bathrooms =3\n",
        "              GROUP BY 1, 2, 3\n",
        "              ORDER BY year ASC\"\"\").show()\n"
      ]
    },
    {
      "cell_type": "code",
      "execution_count": 15,
      "metadata": {
        "id": "Y-Eytz64liDU",
        "colab": {
          "base_uri": "https://localhost:8080/"
        },
        "outputId": "787b8ae9-2b97-4608-a96b-ee163b1f2b6b"
      },
      "outputs": [
        {
          "output_type": "stream",
          "name": "stdout",
          "text": [
            "+----------+--------+---------+------+-------------+\n",
            "|date_built|bedrooms|bathrooms|floors|average_price|\n",
            "+----------+--------+---------+------+-------------+\n",
            "|      2010|       3|        3|     2|    285010.22|\n",
            "|      2011|       3|        3|     2|    276553.81|\n",
            "|      2012|       3|        3|     2|    307539.97|\n",
            "|      2013|       3|        3|     2|    303676.79|\n",
            "|      2014|       3|        3|     2|    298264.72|\n",
            "|      2015|       3|        3|     2|    297609.97|\n",
            "|      2016|       3|        3|     2|     293965.1|\n",
            "|      2017|       3|        3|     2|    280317.58|\n",
            "+----------+--------+---------+------+-------------+\n",
            "\n"
          ]
        }
      ],
      "source": [
        "# 5. What is the average price of a home for each year built that have 3 bedrooms, 3 bathrooms, with two floors,\n",
        "# and are greater than or equal to 2,000 square feet rounded to two decimal places?\n",
        "spark.sql(\"\"\"SELECT date_built, bedrooms, bathrooms, floors, round(Avg(price), 2) AS average_price\n",
        "          FROM home_sales\n",
        "          WHERE bedrooms=3 AND bathrooms=3 AND floors=2 AND sqft_living >=2000\n",
        "          GROUP BY 1, 2, 3, 4\n",
        "          ORDER BY date_built ASC\"\"\").show()\n"
      ]
    },
    {
      "cell_type": "code",
      "execution_count": 16,
      "metadata": {
        "colab": {
          "base_uri": "https://localhost:8080/"
        },
        "id": "GUrfgOX1pCRd",
        "outputId": "9c3d2433-1ed5-4ed7-e70e-b7be7b466875"
      },
      "outputs": [
        {
          "output_type": "stream",
          "name": "stdout",
          "text": [
            "+----+-------------+\n",
            "|view|average_price|\n",
            "+----+-------------+\n",
            "|   0|    403848.51|\n",
            "|   1|    401044.25|\n",
            "|   2|    397389.25|\n",
            "|   3|     398867.6|\n",
            "|   4|    399631.89|\n",
            "|   5|    401471.82|\n",
            "|   6|    395655.38|\n",
            "|   7|    403005.77|\n",
            "|   8|    398592.71|\n",
            "|   9|    401393.34|\n",
            "|  10|    401868.43|\n",
            "|  11|    399548.12|\n",
            "|  12|    401501.32|\n",
            "|  13|    398917.98|\n",
            "|  14|    398570.03|\n",
            "|  15|     404673.3|\n",
            "|  16|    399586.53|\n",
            "|  17|    398474.49|\n",
            "|  18|    399332.91|\n",
            "|  19|    398953.17|\n",
            "+----+-------------+\n",
            "only showing top 20 rows\n",
            "\n",
            "--- 1.4328765869140625 seconds ---\n"
          ]
        }
      ],
      "source": [
        "# 6. What is the \"view\" rating for the average price of a home, rounded to two decimal places, where the homes are greater than\n",
        "# or equal to $350,000? Although this is a small dataset, determine the run time for this query.\n",
        "\n",
        "start_time = time.time()\n",
        "\n",
        "spark.sql(\"\"\"SELECT view, round(Avg(price), 2) AS average_price\n",
        "            FROM home_sales\n",
        "            WHERE price >=350000\n",
        "            GROUP BY 1\n",
        "            ORDER BY len(view), view ASC\"\"\").show()\n",
        "\n",
        "\n",
        "print(\"--- %s seconds ---\" % (time.time() - start_time))"
      ]
    },
    {
      "cell_type": "code",
      "execution_count": 17,
      "metadata": {
        "id": "KAhk3ZD2tFy8",
        "colab": {
          "base_uri": "https://localhost:8080/"
        },
        "outputId": "a6448fd0-9313-4939-ecc1-5f09d64d40be"
      },
      "outputs": [
        {
          "output_type": "execute_result",
          "data": {
            "text/plain": [
              "DataFrame[]"
            ]
          },
          "metadata": {},
          "execution_count": 17
        }
      ],
      "source": [
        "# 7. Cache the the temporary table home_sales.\n",
        "spark.sql(\"cache table home_sales\")"
      ]
    },
    {
      "cell_type": "code",
      "execution_count": 18,
      "metadata": {
        "id": "4opVhbvxtL-i",
        "colab": {
          "base_uri": "https://localhost:8080/"
        },
        "outputId": "519ea039-4216-42ef-97a5-2715f69a6888"
      },
      "outputs": [
        {
          "output_type": "execute_result",
          "data": {
            "text/plain": [
              "True"
            ]
          },
          "metadata": {},
          "execution_count": 18
        }
      ],
      "source": [
        "# 8. Check if the table is cached.\n",
        "spark.catalog.isCached('home_sales')"
      ]
    },
    {
      "cell_type": "code",
      "execution_count": 19,
      "metadata": {
        "colab": {
          "base_uri": "https://localhost:8080/"
        },
        "id": "5GnL46lwTSEk",
        "outputId": "56bca1b9-b937-40f9-a52e-c8f0a78445ca"
      },
      "outputs": [
        {
          "output_type": "stream",
          "name": "stdout",
          "text": [
            "+----+-------------+\n",
            "|view|average_price|\n",
            "+----+-------------+\n",
            "|   0|    403848.51|\n",
            "|   1|    401044.25|\n",
            "|   2|    397389.25|\n",
            "|   3|     398867.6|\n",
            "|   4|    399631.89|\n",
            "|   5|    401471.82|\n",
            "|   6|    395655.38|\n",
            "|   7|    403005.77|\n",
            "|   8|    398592.71|\n",
            "|   9|    401393.34|\n",
            "|  10|    401868.43|\n",
            "|  11|    399548.12|\n",
            "|  12|    401501.32|\n",
            "|  13|    398917.98|\n",
            "|  14|    398570.03|\n",
            "|  15|     404673.3|\n",
            "|  16|    399586.53|\n",
            "|  17|    398474.49|\n",
            "|  18|    399332.91|\n",
            "|  19|    398953.17|\n",
            "+----+-------------+\n",
            "only showing top 20 rows\n",
            "\n",
            "--- 0.5934529304504395 seconds ---\n"
          ]
        }
      ],
      "source": [
        "# 9. Using the cached data, run the query that filters out the view ratings with average price\n",
        "#  greater than or equal to $350,000. Determine the runtime and compare it to uncached runtime.\n",
        "\n",
        "start_time = time.time()\n",
        "\n",
        "spark.sql(\"\"\"SELECT view, round(Avg(price), 2) AS average_price\n",
        "            FROM home_sales\n",
        "            WHERE price >=350000\n",
        "            GROUP BY 1\n",
        "            ORDER BY len(view), view ASC\"\"\").show()\n",
        "\n",
        "\n",
        "print(\"--- %s seconds ---\" % (time.time() - start_time))\n"
      ]
    },
    {
      "cell_type": "code",
      "execution_count": 20,
      "metadata": {
        "id": "Qm12WN9isHBR"
      },
      "outputs": [],
      "source": [
        "# 10. Partition by the \"date_built\" field on the formatted parquet home sales data\n",
        "homeSales_df.write.partitionBy('date_built').mode(\"overwrite\").parquet(\"homeSales_partioned\")"
      ]
    },
    {
      "cell_type": "code",
      "execution_count": 21,
      "metadata": {
        "id": "AZ7BgY61sRqY"
      },
      "outputs": [],
      "source": [
        "# 11. Read the parquet formatted data.\n",
        "p_homeSale_df = spark.read.parquet(\"homeSales_partioned\")"
      ]
    },
    {
      "cell_type": "code",
      "execution_count": 22,
      "metadata": {
        "id": "J6MJkHfvVcvh"
      },
      "outputs": [],
      "source": [
        "# 12. Create a temporary table for the parquet data.\n",
        "p_homeSale_df.createOrReplaceTempView('p_homeSales_df_p')"
      ]
    },
    {
      "cell_type": "code",
      "execution_count": 23,
      "metadata": {
        "colab": {
          "base_uri": "https://localhost:8080/"
        },
        "id": "G_Vhb52rU1Sn",
        "outputId": "aff40ca4-69f7-4b40-dce5-52ea6f48fe31"
      },
      "outputs": [
        {
          "output_type": "stream",
          "name": "stdout",
          "text": [
            "+----+-------------+\n",
            "|view|average_price|\n",
            "+----+-------------+\n",
            "|   0|    403848.51|\n",
            "|   1|    401044.25|\n",
            "|   2|    397389.25|\n",
            "|   3|     398867.6|\n",
            "|   4|    399631.89|\n",
            "|   5|    401471.82|\n",
            "|   6|    395655.38|\n",
            "|   7|    403005.77|\n",
            "|   8|    398592.71|\n",
            "|   9|    401393.34|\n",
            "|  10|    401868.43|\n",
            "|  11|    399548.12|\n",
            "|  12|    401501.32|\n",
            "|  13|    398917.98|\n",
            "|  14|    398570.03|\n",
            "|  15|     404673.3|\n",
            "|  16|    399586.53|\n",
            "|  17|    398474.49|\n",
            "|  18|    399332.91|\n",
            "|  19|    398953.17|\n",
            "+----+-------------+\n",
            "only showing top 20 rows\n",
            "\n",
            "--- 1.7861237525939941 seconds ---\n"
          ]
        }
      ],
      "source": [
        "# 13. Run the query that filters out the view ratings with average price of greater than or equal to $350,000\n",
        "# with the parquet DataFrame. Round your average to two decimal places.\n",
        "# Determine the runtime and compare it to the cached version.\n",
        "\n",
        "start_time = time.time()\n",
        "\n",
        "\n",
        "spark.sql(\"\"\"SELECT view, round(Avg(price), 2) AS average_price\n",
        "            FROM p_homeSales_df_p\n",
        "            WHERE price >=350000\n",
        "            GROUP BY 1\n",
        "            ORDER BY len(view), view ASC\"\"\").show()\n",
        "\n",
        "\n",
        "print(\"--- %s seconds ---\" % (time.time() - start_time))"
      ]
    },
    {
      "cell_type": "code",
      "execution_count": 24,
      "metadata": {
        "id": "hjjYzQGjtbq8",
        "colab": {
          "base_uri": "https://localhost:8080/"
        },
        "outputId": "6607e013-4867-461e-97cb-7f9584e0605a"
      },
      "outputs": [
        {
          "output_type": "execute_result",
          "data": {
            "text/plain": [
              "DataFrame[]"
            ]
          },
          "metadata": {},
          "execution_count": 24
        }
      ],
      "source": [
        "# 14. Uncache the home_sales temporary table.\n",
        "spark.sql('uncache table home_sales')"
      ]
    },
    {
      "cell_type": "code",
      "execution_count": 25,
      "metadata": {
        "id": "Sy9NBvO7tlmm",
        "colab": {
          "base_uri": "https://localhost:8080/"
        },
        "outputId": "4afd3c6d-1133-4e1f-a364-fa48cdf10fb5"
      },
      "outputs": [
        {
          "output_type": "execute_result",
          "data": {
            "text/plain": [
              "False"
            ]
          },
          "metadata": {},
          "execution_count": 25
        }
      ],
      "source": [
        "# 15. Check if the home_sales is no longer cached\n",
        "spark.catalog.isCached('home_sales')\n"
      ]
    },
    {
      "cell_type": "code",
      "execution_count": null,
      "metadata": {
        "id": "Si-BNruRUGK3"
      },
      "outputs": [],
      "source": []
    }
  ],
  "metadata": {
    "colab": {
      "provenance": []
    },
    "gpuClass": "standard",
    "kernelspec": {
      "display_name": "Python 3 (ipykernel)",
      "language": "python",
      "name": "python3"
    },
    "language_info": {
      "codemirror_mode": {
        "name": "ipython",
        "version": 3
      },
      "file_extension": ".py",
      "mimetype": "text/x-python",
      "name": "python",
      "nbconvert_exporter": "python",
      "pygments_lexer": "ipython3",
      "version": "3.10.4"
    },
    "nteract": {
      "version": "0.28.0"
    }
  },
  "nbformat": 4,
  "nbformat_minor": 0
}